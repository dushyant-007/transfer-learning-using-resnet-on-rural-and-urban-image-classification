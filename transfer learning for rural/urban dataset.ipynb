{
 "cells": [
  {
   "cell_type": "markdown",
   "source": [
    "# Getting started.\n",
    "\n",
    "Import all the libraries that are to be used.\n",
    "1. the pytorch framework library.\n",
    "2. torchvision will also be useful to show the arch of the network.\n",
    "3. resnet have to be import , Idk is it part of the torch library? gotta check.\n",
    "4. numpy\n",
    "5. pyplot\n",
    "\n",
    "I'll keep adding if I see something."
   ],
   "metadata": {
    "collapsed": false
   }
  },
  {
   "cell_type": "code",
   "execution_count": 1,
   "metadata": {
    "collapsed": true,
    "ExecuteTime": {
     "end_time": "2023-05-15T18:05:08.891397600Z",
     "start_time": "2023-05-15T18:05:02.806183700Z"
    }
   },
   "outputs": [],
   "source": [
    "\n",
    "import numpy as np\n",
    "import torch\n",
    "import torch.nn as nn\n",
    "import torchsummary\n",
    "import matplotlib.pyplot as plt\n",
    "import torchvision.models as models\n",
    "import torchvision.transforms as transforms\n",
    "from torchvision.io import read_image\n",
    "from PIL import  Image\n",
    "from load_model import resnet_model"
   ]
  },
  {
   "cell_type": "code",
   "execution_count": 2,
   "outputs": [],
   "source": [
    "batch_size = 128\n",
    "learning_rate = 1e-3\n",
    "transforms = transforms.Compose(\n",
    "    [\n",
    "        transforms.ToTensor()\n",
    "    ]\n",
    ")"
   ],
   "metadata": {
    "collapsed": false,
    "ExecuteTime": {
     "end_time": "2023-05-15T18:07:28.868179Z",
     "start_time": "2023-05-15T18:07:28.844964700Z"
    }
   }
  },
  {
   "cell_type": "code",
   "execution_count": null,
   "outputs": [],
   "source": [
    "from torch.utils.data import DataLoader, Dataset\n",
    "train_dataset ="
   ],
   "metadata": {
    "collapsed": false
   }
  }
 ],
 "metadata": {
  "kernelspec": {
   "display_name": "Python 3",
   "language": "python",
   "name": "python3"
  },
  "language_info": {
   "codemirror_mode": {
    "name": "ipython",
    "version": 2
   },
   "file_extension": ".py",
   "mimetype": "text/x-python",
   "name": "python",
   "nbconvert_exporter": "python",
   "pygments_lexer": "ipython2",
   "version": "2.7.6"
  }
 },
 "nbformat": 4,
 "nbformat_minor": 0
}
